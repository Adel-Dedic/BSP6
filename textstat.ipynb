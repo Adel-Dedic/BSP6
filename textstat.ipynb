{
 "cells": [
  {
   "cell_type": "code",
   "execution_count": 3,
   "metadata": {},
   "outputs": [
    {
     "name": "stdout",
     "output_type": "stream",
     "text": [
      "Flesch Reading Ease: 108.03\n",
      "Flesch-Kincaid Grade Level: 1.7\n",
      "SMOG Index: 0.0\n",
      "Coleman-Liau Index: -1.29\n",
      "Automated Readability Index: -0.4\n",
      "Dale-Chall Readability Score: 0.69\n"
     ]
    }
   ],
   "source": [
    "import textstat\n",
    "\n",
    "def evaluate_readability(text):\n",
    "    # Calculate various readability scores\n",
    "    flesch_reading_ease = textstat.flesch_reading_ease(text)\n",
    "    flesch_kincaid_grade = textstat.flesch_kincaid_grade(text)\n",
    "    smog_index = textstat.smog_index(text)\n",
    "    coleman_liau_index = textstat.coleman_liau_index(text)\n",
    "    automated_readability_index = textstat.automated_readability_index(text)\n",
    "    dale_chall_readability_score = textstat.dale_chall_readability_score(text)\n",
    "    \n",
    "    # Print the results\n",
    "    print(f\"Flesch Reading Ease: {flesch_reading_ease}\")\n",
    "    print(f\"Flesch-Kincaid Grade Level: {flesch_kincaid_grade}\")\n",
    "    print(f\"SMOG Index: {smog_index}\")\n",
    "    print(f\"Coleman-Liau Index: {coleman_liau_index}\")\n",
    "    print(f\"Automated Readability Index: {automated_readability_index}\")\n",
    "    print(f\"Dale-Chall Readability Score: {dale_chall_readability_score}\")\n",
    "\n",
    "# Example usage\n",
    "steganographic_text = \"I and my friend, found him to be a big part of my life.\"\n",
    "evaluate_readability(steganographic_text)\n"
   ]
  }
 ],
 "metadata": {
  "kernelspec": {
   "display_name": "Python 3",
   "language": "python",
   "name": "python3"
  },
  "language_info": {
   "codemirror_mode": {
    "name": "ipython",
    "version": 3
   },
   "file_extension": ".py",
   "mimetype": "text/x-python",
   "name": "python",
   "nbconvert_exporter": "python",
   "pygments_lexer": "ipython3",
   "version": "3.11.8"
  }
 },
 "nbformat": 4,
 "nbformat_minor": 2
}
