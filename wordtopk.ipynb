{
 "cells": [
  {
   "cell_type": "code",
   "execution_count": 1,
   "metadata": {},
   "outputs": [],
   "source": [
    "from transformers import GPT2LMHeadModel, GPT2Tokenizer\n",
    "import torch\n",
    "\n",
    "# Load pre-trained model and tokenizer\n",
    "model = GPT2LMHeadModel.from_pretrained('gpt2')\n",
    "tokenizer = GPT2Tokenizer.from_pretrained('gpt2')\n",
    "\n",
    "# Adjust tokenizer settings\n",
    "tokenizer.padding_side = \"left\"\n",
    "tokenizer.pad_token = tokenizer.eos_token"
   ]
  },
  {
   "cell_type": "code",
   "execution_count": 9,
   "metadata": {},
   "outputs": [],
   "source": [
    "def generate_with_included_letters(model, tokenizer, letters, max_length=50):\n",
    "    device = torch.device(\"cuda\" if torch.cuda.is_available() else \"cpu\")\n",
    "    model.to(device)\n",
    "\n",
    "    generated = \"\"\n",
    "    input_ids = tokenizer.encode(tokenizer.bos_token, return_tensors='pt').to(device)\n",
    "    attention_mask = torch.ones(input_ids.shape, device=device)\n",
    "\n",
    "    # Process each letter from the hidden message\n",
    "    for letter in letters:\n",
    "        found = False\n",
    "        attempts = 0\n",
    "        while not found and attempts < 10:\n",
    "            outputs = model.generate(\n",
    "                input_ids,\n",
    "                attention_mask=attention_mask,\n",
    "                max_length=max_length + len(generated.split()),\n",
    "                temperature=0.8,\n",
    "                top_k=50,\n",
    "                top_p=0.95,\n",
    "                do_sample=True,\n",
    "                num_return_sequences=1\n",
    "            )\n",
    "\n",
    "            if outputs.numel() == 0:\n",
    "                print(f\"No generation was produced for the letter '{letter}'.\")\n",
    "                generated += \" \" + letter.lower() + \"...\"\n",
    "                break\n",
    "\n",
    "            text = tokenizer.decode(outputs[0], skip_special_tokens=True)\n",
    "            generated_words = text.split()[len(generated.split()):]\n",
    "\n",
    "            for word in generated_words:\n",
    "                if letter.lower() in word.lower():\n",
    "                    generated += \" \" + word\n",
    "                    found = True\n",
    "                    input_ids = tokenizer.encode(generated, return_tensors='pt').to(device)\n",
    "                    attention_mask = torch.ones(input_ids.shape, device=device)\n",
    "                    break\n",
    "            attempts += 1\n",
    "\n",
    "    # Complete the sentence naturally until a punctuation mark\n",
    "    sentence_completed = False\n",
    "    while not sentence_completed:\n",
    "        outputs = model.generate(\n",
    "            input_ids,\n",
    "            attention_mask=attention_mask,\n",
    "            max_length=max_length + len(generated.split()),\n",
    "            temperature=0.8,\n",
    "            top_k=50,\n",
    "            top_p=0.95,\n",
    "            do_sample=True,\n",
    "            num_return_sequences=1\n",
    "        )\n",
    "\n",
    "        text = tokenizer.decode(outputs[0], skip_special_tokens=True)\n",
    "        for i, char in enumerate(text[len(generated):]):\n",
    "            generated += char\n",
    "            if char in '.?!':\n",
    "                sentence_completed = True\n",
    "                break\n",
    "\n",
    "        if not sentence_completed:\n",
    "            input_ids = tokenizer.encode(generated, return_tensors='pt').to(device)\n",
    "            attention_mask = torch.ones(input_ids.shape, device=device)\n",
    "\n",
    "    # Ensure the first letter of the sentence is capitalized\n",
    "    generated = generated.strip()\n",
    "    if generated:\n",
    "        generated = generated[0].upper() + generated[1:]\n",
    "\n",
    "    return generated"
   ]
  },
  {
   "cell_type": "code",
   "execution_count": 13,
   "metadata": {},
   "outputs": [
    {
     "name": "stderr",
     "output_type": "stream",
     "text": [
      "Setting `pad_token_id` to `eos_token_id`:50256 for open-end generation.\n",
      "A decoder-only architecture is being used, but right-padding was detected! For correct generation results, please set `padding_side='left'` when initializing the tokenizer.\n",
      "Setting `pad_token_id` to `eos_token_id`:50256 for open-end generation.\n",
      "Setting `pad_token_id` to `eos_token_id`:50256 for open-end generation.\n",
      "Setting `pad_token_id` to `eos_token_id`:50256 for open-end generation.\n",
      "Setting `pad_token_id` to `eos_token_id`:50256 for open-end generation.\n"
     ]
    },
    {
     "name": "stdout",
     "output_type": "stream",
     "text": [
      "This about of course, is a pretty bad sign.\n"
     ]
    }
   ],
   "source": [
    "# Example usage\n",
    "letters = ['I', 'A', 'F']\n",
    "sentence = generate_with_included_letters(model, tokenizer, letters)\n",
    "print(sentence)"
   ]
  }
 ],
 "metadata": {
  "kernelspec": {
   "display_name": "Python 3",
   "language": "python",
   "name": "python3"
  },
  "language_info": {
   "codemirror_mode": {
    "name": "ipython",
    "version": 3
   },
   "file_extension": ".py",
   "mimetype": "text/x-python",
   "name": "python",
   "nbconvert_exporter": "python",
   "pygments_lexer": "ipython3",
   "version": "3.11.8"
  }
 },
 "nbformat": 4,
 "nbformat_minor": 2
}
