{
 "cells": [
  {
   "cell_type": "code",
   "execution_count": 1,
   "metadata": {},
   "outputs": [
    {
     "name": "stderr",
     "output_type": "stream",
     "text": [
      "[nltk_data] Downloading package words to\n",
      "[nltk_data]     C:\\Users\\Wolverys\\AppData\\Roaming\\nltk_data...\n",
      "[nltk_data]   Package words is already up-to-date!\n"
     ]
    },
    {
     "name": "stdout",
     "output_type": "stream",
     "text": [
      "Cover Text: inconsiderableness notidanidan cyanidation encourager proctological teenty innative overlie noncongratulatory\n"
     ]
    }
   ],
   "source": [
    "import nltk\n",
    "import random\n",
    "\n",
    "from nltk.corpus import words\n",
    "nltk.download('words')\n",
    "\n",
    "def hide_message_in_text(message, word_list):\n",
    "    hidden_message = []\n",
    "    message = message.upper()  # Convert the message to uppercase\n",
    "    \n",
    "    # Generate a list of words for each letter in the message\n",
    "    for char in message:\n",
    "        if char.isalpha():  # Check if the character is a letter\n",
    "            # Filter words that start with the character\n",
    "            filtered_words = [word for word in word_list if word.startswith(char.lower())]\n",
    "            if filtered_words:\n",
    "                # Randomly select a word that starts with the letter\n",
    "                word = random.choice(filtered_words)\n",
    "                hidden_message.append(word)\n",
    "            else:\n",
    "                # If no word is found for the letter, use the letter itself (fallback)\n",
    "                hidden_message.append(char)\n",
    "        else:\n",
    "            # For non-alpha characters like spaces, add them directly\n",
    "            hidden_message.append(char)\n",
    "\n",
    "    # Join the words to form the cover text\n",
    "    return ' '.join(hidden_message)\n",
    "\n",
    "# Load the nltk words list\n",
    "word_list = words.words()\n",
    "\n",
    "# Example usage\n",
    "secret_message = \"Inception\"\n",
    "hidden_text = hide_message_in_text(secret_message, word_list)\n",
    "print(\"Cover Text:\", hidden_text)\n"
   ]
  },
  {
   "cell_type": "code",
   "execution_count": 3,
   "metadata": {},
   "outputs": [
    {
     "name": "stderr",
     "output_type": "stream",
     "text": [
      "Truncation was not explicitly activated but `max_length` is provided a specific value, please use `truncation=True` to explicitly truncate examples to max length. Defaulting to 'longest_first' truncation strategy. If you encode pairs of sequences (GLUE-style) with the tokenizer you can select this strategy more precisely by providing a specific strategy to `truncation`.\n",
      "Setting `pad_token_id` to `eos_token_id`:50256 for open-end generation.\n",
      "Setting `pad_token_id` to `eos_token_id`:50256 for open-end generation.\n",
      "Setting `pad_token_id` to `eos_token_id`:50256 for open-end generation.\n",
      "Setting `pad_token_id` to `eos_token_id`:50256 for open-end generation.\n"
     ]
    },
    {
     "name": "stdout",
     "output_type": "stream",
     "text": [
      "lord' is the symbol of the war and of the true and everlasting war, and of the sword, the war's sword.\n",
      "of-kill:\n",
      "\n",
      "Mention the \"I will kill them forever\" phrase at a gun range, and you'll see the same thing the first guy mentioned.\n",
      "the theocratic right was a far cry from its original self), and is therefore far from idealistic.\n",
      "rings\n",
      "\n",
      "* Optional\n",
      "\n",
      "- (define-key cmp \"foo\" | (define-key cmp \"bar\" + 1)\n",
      "\n",
      "* Optional\n",
      "\n",
      "\n",
      "*\n",
      "\n",
      "- (macro-key-add-value \".\n"
     ]
    }
   ],
   "source": [
    "from transformers import pipeline\n",
    "\n",
    "# Initialize the text generation pipeline with a pre-trained model\n",
    "generator = pipeline('text-generation', model='gpt2')\n",
    "\n",
    "def generate_sentences_from_words(words):\n",
    "    sentences = []\n",
    "    for word in words:\n",
    "        # Generate text using the word as a prompt\n",
    "        generated_text = generator(f\"{word}\", max_length=50, num_return_sequences=1)\n",
    "        sentence = generated_text[0]['generated_text']\n",
    "        # Extract a sentence from the generated text\n",
    "        # This is a basic approach; you might need to refine how you extract sentences\n",
    "        first_sentence = sentence.split('.')[0] + '.'\n",
    "        sentences.append(first_sentence)\n",
    "    return sentences\n",
    "\n",
    "# Example usage with a list of words as seeds\n",
    "words = (\"lord of the rings\").split()\n",
    "sentences = generate_sentences_from_words(words)\n",
    "for sentence in sentences:\n",
    "    print(sentence)\n"
   ]
  },
  {
   "cell_type": "code",
   "execution_count": 4,
   "metadata": {},
   "outputs": [
    {
     "name": "stdout",
     "output_type": "stream",
     "text": [
      "Cover Text: Someone I know recently combined Maple Syrup & buttered Popcorn thinking it would taste like caramel popcorn. It didn’t and they don’t recommend anyone else do it either.\n",
      "Hidden Message Text: SLmeone I kOow rRcently cDmbined MOple SFrup & bTttered PHpcorn tEinking iR wIuld tNste lGke cSramel p.pcorn. It didn’t and they don’t recommend anyone else do it either.\n"
     ]
    }
   ],
   "source": [
    "def hide_message_acrostic(message, cover_words):\n",
    "    hidden_message = []\n",
    "    message_index = 0\n",
    "    message = message.replace(' ', '').upper()  # Remove spaces and uppercase\n",
    "\n",
    "    for word in cover_words:\n",
    "        # If the message is fully encoded, just add the rest of the words normally\n",
    "        if message_index >= len(message):\n",
    "            hidden_message.append(word)\n",
    "        else:\n",
    "            # Insert the message character into the word\n",
    "            if len(word) > 1:\n",
    "                # Replace a character in the word at a certain position to spell out the message\n",
    "                # For example, you might replace the second character or the last one\n",
    "                position_to_replace = 1  # Can change this strategy as needed\n",
    "                word_list = list(word)\n",
    "                word_list[position_to_replace] = message[message_index]\n",
    "                new_word = ''.join(word_list)\n",
    "                hidden_message.append(new_word)\n",
    "                message_index += 1\n",
    "            else:\n",
    "                # If the word is a single character, just append it as is\n",
    "                hidden_message.append(word)\n",
    "                # Check if it coincidentally matches the message character\n",
    "                if word.upper() == message[message_index]:\n",
    "                    message_index += 1\n",
    "\n",
    "    return ' '.join(hidden_message)\n",
    "\n",
    "# Example usage\n",
    "cover_text = \"Someone I know recently combined Maple Syrup & buttered Popcorn thinking it would taste like caramel popcorn. It didn’t and they don’t recommend anyone else do it either.\"\n",
    "cover_words = cover_text.split()\n",
    "secret_message = \"Lord of the rings.\"\n",
    "\n",
    "# Hide the message\n",
    "hidden_text = hide_message_acrostic(secret_message, cover_words)\n",
    "print(\"Cover Text:\", cover_text)\n",
    "print(\"Hidden Message Text:\", hidden_text)\n"
   ]
  }
 ],
 "metadata": {
  "kernelspec": {
   "display_name": "Python 3",
   "language": "python",
   "name": "python3"
  },
  "language_info": {
   "codemirror_mode": {
    "name": "ipython",
    "version": 3
   },
   "file_extension": ".py",
   "mimetype": "text/x-python",
   "name": "python",
   "nbconvert_exporter": "python",
   "pygments_lexer": "ipython3",
   "version": "3.11.8"
  }
 },
 "nbformat": 4,
 "nbformat_minor": 2
}
