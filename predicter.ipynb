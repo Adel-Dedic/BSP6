{
 "cells": [
  {
   "cell_type": "code",
   "execution_count": 72,
   "metadata": {},
   "outputs": [],
   "source": [
    "from transformers import GPT2LMHeadModel, GPT2Tokenizer\n",
    "\n",
    "# Load the pre-trained GPT-2 language model and tokenizer\n",
    "model_name = \"gpt2\"\n",
    "model = GPT2LMHeadModel.from_pretrained(model_name)\n",
    "tokenizer = GPT2Tokenizer.from_pretrained(model_name)"
   ]
  },
  {
   "cell_type": "code",
   "execution_count": 75,
   "metadata": {},
   "outputs": [],
   "source": [
    "def generate_sentence_with_sequence(start_word, sequence):\n",
    "    \"\"\"\n",
    "    Generate a coherent sentence starting with a given word and following a sequence of starting letters.\n",
    "    \n",
    "    Args:\n",
    "        start_word (str): The word to start the sentence.\n",
    "        sequence (list of str): A sequence of letters that subsequent words in the sentence should start with.\n",
    "        \n",
    "    Returns:\n",
    "        str: A generated sentence that starts with the start_word and where each subsequent word begins \n",
    "             with the corresponding letter in the sequence.\n",
    "             \n",
    "    The function will attempt to find words that not only start with the specified letters in the sequence \n",
    "    but also fit coherently within the context of the sentence. If no suitable word is found after a \n",
    "    specified number of attempts, it prints an error message and exits the loop.\n",
    "    \"\"\"\n",
    "    \n",
    "    generated = start_word  # Initialize the generated text with the start word\n",
    "\n",
    "    for index, letter in enumerate(sequence):\n",
    "        attempts = 0\n",
    "        found_word = False\n",
    "\n",
    "        while not found_word and attempts < 100:\n",
    "            prompt_text = generated\n",
    "            input_ids = tokenizer.encode(prompt_text, return_tensors='pt')\n",
    "\n",
    "            # Generate multiple sequences to choose from\n",
    "            outputs = model.generate(\n",
    "                input_ids,\n",
    "                max_length=input_ids.shape[1] + 10,\n",
    "                temperature=0.8,\n",
    "                num_return_sequences=5,\n",
    "                do_sample=True,\n",
    "                top_k=50,\n",
    "                top_p=0.95,\n",
    "                repetition_penalty=1.2,\n",
    "                pad_token_id=tokenizer.eos_token_id\n",
    "            )\n",
    "\n",
    "            candidate_words = set()\n",
    "            for output in outputs:\n",
    "                generated_text = tokenizer.decode(output, skip_special_tokens=True)\n",
    "                new_text = generated_text[len(prompt_text):].strip()\n",
    "                words = new_text.split()\n",
    "\n",
    "                for word in words:\n",
    "                    if word.lower().startswith(letter):\n",
    "                        candidate_words.add(word)\n",
    "                        break\n",
    "\n",
    "            best_word = None\n",
    "            best_score = float('-inf')\n",
    "            for word in candidate_words:\n",
    "                test_sentence = generated + ' ' + word\n",
    "                test_input_ids = tokenizer.encode(test_sentence, return_tensors='pt')\n",
    "                test_output = model(test_input_ids)\n",
    "\n",
    "                next_token = sequence[index + 1] if index + 1 < len(sequence) else '.'\n",
    "                next_token_id = tokenizer.encode(next_token, return_tensors='pt')[0][0]\n",
    "\n",
    "                scores = test_output.logits[0, -1, next_token_id].item()\n",
    "\n",
    "                if scores > best_score:\n",
    "                    best_score = scores\n",
    "                    best_word = word\n",
    "\n",
    "            if best_word:\n",
    "                generated += (' ' + best_word)\n",
    "                found_word = True\n",
    "            else:\n",
    "                attempts += 1\n",
    "\n",
    "        if not found_word:\n",
    "            print(f\"Could not find a suitable word starting with '{letter}'.\")\n",
    "            break\n",
    "\n",
    "    return generated"
   ]
  },
  {
   "cell_type": "code",
   "execution_count": 77,
   "metadata": {},
   "outputs": [
    {
     "name": "stdout",
     "output_type": "stream",
     "text": [
      "Important not comment email points to It or note\n"
     ]
    }
   ],
   "source": [
    "# Example usage\n",
    "start_word = \"Important\"\n",
    "sequence = [\"n\", \"c\", \"e\", \"p\", \"t\", \"i\", \"o\", \"n\"]  # Example sequence\n",
    "generated_sentence = generate_sentence_with_sequence(start_word, sequence)\n",
    "print(generated_sentence)"
   ]
  }
 ],
 "metadata": {
  "kernelspec": {
   "display_name": "Python 3",
   "language": "python",
   "name": "python3"
  },
  "language_info": {
   "codemirror_mode": {
    "name": "ipython",
    "version": 3
   },
   "file_extension": ".py",
   "mimetype": "text/x-python",
   "name": "python",
   "nbconvert_exporter": "python",
   "pygments_lexer": "ipython3",
   "version": "3.11.8"
  }
 },
 "nbformat": 4,
 "nbformat_minor": 2
}
