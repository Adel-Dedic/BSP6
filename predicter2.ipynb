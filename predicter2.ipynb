{
 "cells": [
  {
   "cell_type": "code",
   "execution_count": 22,
   "metadata": {},
   "outputs": [
    {
     "name": "stderr",
     "output_type": "stream",
     "text": [
      "Some weights of RobertaForSequenceClassification were not initialized from the model checkpoint at roberta-base and are newly initialized: ['classifier.dense.bias', 'classifier.dense.weight', 'classifier.out_proj.bias', 'classifier.out_proj.weight']\n",
      "You should probably TRAIN this model on a down-stream task to be able to use it for predictions and inference.\n"
     ]
    }
   ],
   "source": [
    "from transformers import GPT2LMHeadModel, GPT2Tokenizer, RobertaForSequenceClassification, RobertaTokenizer\n",
    "import torch\n",
    "\n",
    "# Load GPT-2 model and tokenizer\n",
    "model_name_gpt2 = \"gpt2\"\n",
    "model_gpt2 = GPT2LMHeadModel.from_pretrained(model_name_gpt2)\n",
    "tokenizer_gpt2 = GPT2Tokenizer.from_pretrained(model_name_gpt2)\n",
    "\n",
    "# Load RoBERTa model and tokenizer for sequence classification (used for coherence scoring)\n",
    "model_name_roberta = 'roberta-base'\n",
    "model_roberta = RobertaForSequenceClassification.from_pretrained(model_name_roberta)\n",
    "tokenizer_roberta = RobertaTokenizer.from_pretrained(model_name_roberta)"
   ]
  },
  {
   "cell_type": "code",
   "execution_count": 23,
   "metadata": {},
   "outputs": [],
   "source": [
    "def score_coherence_with_roberta(sentence1, sentence2):\n",
    "    \"\"\"\n",
    "    Score the coherence of two sentences using RoBERTa's Sequence Classification.\n",
    "    \n",
    "    Args:\n",
    "        sentence1 (str): The first sentence.\n",
    "        sentence2 (str): The second sentence.\n",
    "        \n",
    "    Returns:\n",
    "        float: A coherence score, where higher indicates more coherent.\n",
    "    \"\"\"\n",
    "    # Encode the sentences as a single input\n",
    "    inputs = tokenizer_roberta.encode_plus(sentence1, sentence2, return_tensors='pt', add_special_tokens=True)\n",
    "    # Get logits from RoBERTa\n",
    "    logits = model_roberta(**inputs).logits\n",
    "    # Coherence score is the softmax probability of the \"IsNext\" class, assuming index 0 is for \"IsNext\"\n",
    "    coherence_score = torch.softmax(logits, dim=1)[0][0].item()\n",
    "    return coherence_score"
   ]
  },
  {
   "cell_type": "code",
   "execution_count": 24,
   "metadata": {},
   "outputs": [],
   "source": [
    "def generate_sentence_with_sequence_and_roberta(start_word, sequence):\n",
    "    generated = start_word\n",
    "    for index, letter in enumerate(sequence):\n",
    "        attempts = 0\n",
    "        found_word = False\n",
    "        while not found_word and attempts < 100:\n",
    "            prompt_text = generated\n",
    "            input_ids = tokenizer_gpt2.encode(prompt_text, return_tensors='pt')\n",
    "            outputs = model_gpt2.generate(\n",
    "                input_ids,\n",
    "                max_length=input_ids.shape[1] + 10,\n",
    "                temperature=0.8,\n",
    "                num_return_sequences=5,\n",
    "                do_sample=True,\n",
    "                top_k=50,\n",
    "                top_p=0.95,\n",
    "                repetition_penalty=1.2,\n",
    "                pad_token_id=tokenizer_gpt2.eos_token_id\n",
    "            )\n",
    "            candidate_words = set()\n",
    "            for output in outputs:\n",
    "                generated_text = tokenizer_gpt2.decode(output, skip_special_tokens=True)\n",
    "                new_text = generated_text[len(prompt_text):].strip()\n",
    "                words = new_text.split()\n",
    "                for word in words:\n",
    "                    if word.lower().startswith(letter):\n",
    "                        candidate_words.add(word)\n",
    "                        break\n",
    "            best_word = None\n",
    "            best_score = float('-inf')\n",
    "            for word in candidate_words:\n",
    "                test_sentence = f\"{generated} {word}\"\n",
    "                score = score_coherence_with_roberta(prompt_text, test_sentence)\n",
    "                if score > best_score:\n",
    "                    best_score = score\n",
    "                    best_word = word\n",
    "            if best_word:\n",
    "                generated += ' ' + best_word\n",
    "                found_word = True\n",
    "            else:\n",
    "                attempts += 1\n",
    "        if not found_word:\n",
    "            print(f\"Could not find a suitable word starting with '{letter}'.\")\n",
    "            break\n",
    "    return generated"
   ]
  },
  {
   "cell_type": "code",
   "execution_count": 25,
   "metadata": {},
   "outputs": [
    {
     "name": "stdout",
     "output_type": "stream",
     "text": [
      "Important note, content Eric prior the its our new\n"
     ]
    }
   ],
   "source": [
    "# Example usage\n",
    "start_word = \"Important\"\n",
    "sequence = [\"n\", \"c\", \"e\", \"p\", \"t\", \"i\", \"o\", \"n\"]\n",
    "generated_sentence = generate_sentence_with_sequence_and_roberta(start_word, sequence)\n",
    "print(generated_sentence)"
   ]
  }
 ],
 "metadata": {
  "kernelspec": {
   "display_name": "Python 3",
   "language": "python",
   "name": "python3"
  },
  "language_info": {
   "codemirror_mode": {
    "name": "ipython",
    "version": 3
   },
   "file_extension": ".py",
   "mimetype": "text/x-python",
   "name": "python",
   "nbconvert_exporter": "python",
   "pygments_lexer": "ipython3",
   "version": "3.11.8"
  }
 },
 "nbformat": 4,
 "nbformat_minor": 2
}
